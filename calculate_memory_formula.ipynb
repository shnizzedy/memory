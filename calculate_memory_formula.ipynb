{
 "cells": [
  {
   "cell_type": "code",
   "execution_count": null,
   "metadata": {},
   "outputs": [],
   "source": [
    "import re\n",
    "\n",
    "from nipype.utils.draw_gantt_chart import log_to_dict\n",
    "from numpy import around, polyfit\n",
    "\n",
    "import warnings\n",
    "warnings.filterwarnings('ignore')"
   ]
  },
  {
   "cell_type": "code",
   "execution_count": null,
   "metadata": {},
   "outputs": [],
   "source": [
    "def create_arrays(list_of_logs):\n",
    "    log_dicts = [get_mem_usage(log) for log in list_of_logs]\n",
    "    curves = {}\n",
    "    for log in log_dicts:\n",
    "        for key in log:\n",
    "            if key not in curves:\n",
    "                curves[key] = {'x': [], 'y': []}\n",
    "            for log in log_dicts:\n",
    "                if key in log and log[key]['TRs'] not in curves[key]['x']:\n",
    "                    curves[key]['x'].append(log[key]['TRs'])\n",
    "                    curves[key]['y'].append(log[key]['runtime_memory_gb'])\n",
    "    return curves\n",
    "\n",
    "\n",
    "def get_mem_usage(log, TRs=None):\n",
    "    if TRs is None:\n",
    "        TRs = int(log.rstrip('.log'))\n",
    "    q = [i for i in log_to_dict(log) if\n",
    "         'num_threads' in i\n",
    "        ]\n",
    "    r = {i: {\n",
    "        'runtime_memory_gb': max([j.get('runtime_memory_gb', 0) for j in q if i in j['id']]),\n",
    "        'estimated_memory_gb': max([j.get('estimated_memory_gb', 0) for j in q if i in j['id']]),\n",
    "        'TRs': TRs\n",
    "    } for i in {\n",
    "        (re.search('.*(?=_\\d*)', i['id'].split('.')[-1]).group() if\n",
    "         re.search('.*(?=_\\d*)', i['id'].split('.')[-1]) else\n",
    "         i['id'].split('.')[-1]) for i in q\n",
    "    }}\n",
    "    return dict(sorted(r.items(), key=lambda item: item[1]['runtime_memory_gb'], reverse=True))\n",
    "\n",
    "\n",
    "def calculate_formula(coordinates):\n",
    "    '''\n",
    "    Parameters\n",
    "    ----------\n",
    "    coordinates : tuple of lists\n",
    "        ([x1, x2, x3], [y1, y2, y3])\n",
    "    '''\n",
    "    a, b = around(polyfit(*coordinates, 1), 6)\n",
    "    a2, b2, c2 = around(polyfit(*coordinates, 2), 6)\n",
    "    return f'{a}x + {b}\\n\\t{a2}x² + {b2}x + {c2}'\n",
    "\n",
    "\n",
    "def calculate_formulas(arrays):\n",
    "    for key in arrays:\n",
    "        print(f'{key}:\\n\\t{calculate_formula((arrays[key][\"x\"], arrays[key][\"y\"]))}')"
   ]
  },
  {
   "cell_type": "code",
   "execution_count": null,
   "metadata": {},
   "outputs": [],
   "source": [
    "calculate_formulas(create_arrays(['300.log', '600.log']))"
   ]
  },
  {
   "cell_type": "code",
   "execution_count": null,
   "metadata": {},
   "outputs": [],
   "source": []
  }
 ],
 "metadata": {
  "kernelspec": {
   "display_name": "Python 3",
   "language": "python",
   "name": "python3"
  },
  "language_info": {
   "codemirror_mode": {
    "name": "ipython",
    "version": 3
   },
   "file_extension": ".py",
   "mimetype": "text/x-python",
   "name": "python",
   "nbconvert_exporter": "python",
   "pygments_lexer": "ipython3",
   "version": "3.7.6"
  }
 },
 "nbformat": 4,
 "nbformat_minor": 4
}
